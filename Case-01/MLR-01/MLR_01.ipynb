{
  "nbformat": 4,
  "nbformat_minor": 0,
  "metadata": {
    "colab": {
      "name": "Plotting-MLR-01-Case-01.ipynb",
      "provenance": [],
      "collapsed_sections": []
    },
    "kernelspec": {
      "name": "python3",
      "display_name": "Python 3"
    },
    "language_info": {
      "name": "python"
    }
  },
  "cells": [
    {
      "cell_type": "code",
      "metadata": {
        "id": "4cXVUydyPayf"
      },
      "source": [
        "\"\"\"\n",
        "Case_01\n",
        "\n",
        "https://machinelearningmastery.com/how-to-control-the-speed-and-stability-of-training-neural-networks-with-gradient-descent-batch-size/\n",
        "\"\"\"\n",
        "#General Imports\n",
        "import pandas as pd\n",
        "import numpy as np\n",
        "import matplotlib.pyplot as plt\n",
        "import tensorflow as tf\n",
        "from tensorflow import keras\n",
        "from tensorflow.keras import layers\n",
        "from sklearn.preprocessing import StandardScaler, MinMaxScaler\n",
        "from sklearn.metrics import mean_squared_error, r2_score, mean_absolute_error, mean_squared_log_error\n",
        "from keras.models import Sequential\n",
        "from keras.layers import Dense, Dropout\n",
        "from keras.callbacks import EarlyStopping, ModelCheckpoint, LearningRateScheduler, CSVLogger\n",
        "from sklearn.model_selection import train_test_split\n",
        "import time\n",
        "\n",
        "'''\n",
        "PreProcessing\n",
        "''' \n",
        "#Loading Database\n",
        "df_case_01 = pd.read_csv(r'Case_01_data.csv')\n",
        "\n",
        "#Transforming to DataFrame\n",
        "df_case_01 = pd.DataFrame(df_case_01)\n",
        "df_case_01 = df_case_01.drop(columns='run')\n",
        "\n",
        "#Transforming to NumpyArray\n",
        "df_case_01 = df_case_01.to_numpy()\n",
        "\n",
        "'''\n",
        "Inputs\n",
        "'''\n",
        "X = df_case_01[:, [0, 1, 2, 3]]\n",
        "\n",
        "#1 --> Yeast Extract (g/L) --> index: 0\n",
        "#2 --> Whey (g/L) --> index: 1\n",
        "#3 --> Autoclave Temperature (ºC) --> index: 2\n",
        "#4 --> Seawater (%) --> index: 3\n",
        "\n",
        "'''\n",
        "Outputs\n",
        "'''\n",
        "y = df_case_01[:, [4]] \n",
        "\n",
        "#1 --> Response: SUA (Mm urea hydrolyzed.min-1.OD-1) --> index: 4\n",
        "\n",
        "'''\n",
        "#Scaling the and preparing the data\n",
        "scalerX = MinMaxScaler()\n",
        "scalerY = MinMaxScaler()\n",
        "\n",
        "#Scaling the Data\n",
        "scaledX = scalerX.fit_transform(X)\n",
        "scaledY = scalerY.fit_transform(y)\n",
        "'''\n",
        "#Train & Test split\n",
        "X_train, X_test, y_train, y_test = train_test_split(X, y, \n",
        "                                                   test_size = 0.15)"
      ],
      "execution_count": null,
      "outputs": []
    },
    {
      "cell_type": "code",
      "metadata": {
        "colab": {
          "base_uri": "https://localhost:8080/"
        },
        "id": "a39m7SDcH5cG",
        "outputId": "86c70aae-73da-4565-d73d-776be6908fa3"
      },
      "source": [
        "from sklearn.linear_model import LinearRegression\n",
        "model = LinearRegression()\n",
        "\n",
        "#Initial time\n",
        "start_time = time.time()\n",
        "\n",
        "#Fitting the model\n",
        "model.fit(X, y)\n",
        "\n",
        "#Final time\n",
        "end_time = (time.time() - start_time)\n",
        "print('The running time is: %.2f minutes' %(end_time/60))"
      ],
      "execution_count": null,
      "outputs": [
        {
          "output_type": "stream",
          "name": "stdout",
          "text": [
            "The running time is: 0.00 minutes\n"
          ]
        }
      ]
    },
    {
      "cell_type": "code",
      "metadata": {
        "id": "FApLgPRFQQd7"
      },
      "source": [
        "#Making a prediction\n",
        "y_pred = model.predict(X)"
      ],
      "execution_count": null,
      "outputs": []
    },
    {
      "cell_type": "code",
      "metadata": {
        "colab": {
          "base_uri": "https://localhost:8080/"
        },
        "id": "861pSiKDQX3x",
        "outputId": "c50f002c-19d7-4237-f990-66e74b4a0172"
      },
      "source": [
        "#Metrics Global\n",
        "print('Metrics Global')\n",
        "mae_SUA = mean_absolute_error(y, y_pred)\n",
        "print('The mae is: %.4f' %mae_SUA)\n",
        "mse_SUA = mean_squared_error(y, y_pred)\n",
        "print('The mse is: %.4f' %mse_SUA)\n",
        "rmse_SUA = np.sqrt(mse_SUA).mean()\n",
        "print('The rmse is: %.4f' %rmse_SUA)\n",
        "r2_SUA = r2_score(y, y_pred)\n",
        "print('The R2 is: %.4f' %r2_SUA)"
      ],
      "execution_count": null,
      "outputs": [
        {
          "output_type": "stream",
          "name": "stdout",
          "text": [
            "Metrics Global\n",
            "The mae is: 1.3784\n",
            "The mse is: 2.8922\n",
            "The rmse is: 1.7007\n",
            "The R2 is: 0.7136\n"
          ]
        }
      ]
    },
    {
      "cell_type": "markdown",
      "metadata": {
        "id": "5OK3EWIEnZaT"
      },
      "source": [
        "## Making the Equation\n",
        "\n",
        "Y = B0 + B1X1 + BnXn + ... + Sigma Residual\n",
        "\n",
        "Y = target\n",
        "B0 = intercept\n",
        "B1. = coefficient"
      ]
    },
    {
      "cell_type": "code",
      "metadata": {
        "id": "py2Lxuj-nGlL",
        "colab": {
          "base_uri": "https://localhost:8080/"
        },
        "outputId": "bd1c5743-bc4c-42de-f478-53346660256a"
      },
      "source": [
        "#Intercept of the model B0...\n",
        "B0 = model.intercept_\n",
        "B0 = float(B0)\n",
        "B0"
      ],
      "execution_count": null,
      "outputs": [
        {
          "output_type": "execute_result",
          "data": {
            "text/plain": [
              "-9.105353386451641"
            ]
          },
          "metadata": {},
          "execution_count": 5
        }
      ]
    },
    {
      "cell_type": "code",
      "metadata": {
        "colab": {
          "base_uri": "https://localhost:8080/"
        },
        "id": "XihiS1vfm-Mb",
        "outputId": "4bf56cab-1d3d-4db7-de1f-2611874781cb"
      },
      "source": [
        "#Coefficients of the model B1, B2, B3, B4\n",
        "coefficient = model.coef_\n",
        "coefficient = np.array(coefficient)\n",
        "coefficient"
      ],
      "execution_count": null,
      "outputs": [
        {
          "output_type": "execute_result",
          "data": {
            "text/plain": [
              "array([[ 0.08709817,  0.32923098,  0.08576256, -0.00680656]])"
            ]
          },
          "metadata": {},
          "execution_count": 6
        }
      ]
    },
    {
      "cell_type": "code",
      "metadata": {
        "colab": {
          "base_uri": "https://localhost:8080/"
        },
        "id": "v4rzMQh4BXlC",
        "outputId": "88993eff-7800-4453-a229-642e4e3d0099"
      },
      "source": [
        "#Residual Error\n",
        "sigma_residual = mean_squared_error(y_pred, y)\n",
        "sigma_residual "
      ],
      "execution_count": null,
      "outputs": [
        {
          "output_type": "execute_result",
          "data": {
            "text/plain": [
              "2.8922407460218325"
            ]
          },
          "metadata": {},
          "execution_count": 7
        }
      ]
    },
    {
      "cell_type": "code",
      "metadata": {
        "id": "IF_MXDFlUcnq"
      },
      "source": [
        "#Making variables\n",
        "B0, B1, B2, B3, B4, sigma = B0, coefficient[0,0], coefficient[0,1], coefficient[0, 2], coefficient[0, 3], sigma_residual"
      ],
      "execution_count": null,
      "outputs": []
    },
    {
      "cell_type": "code",
      "metadata": {
        "colab": {
          "base_uri": "https://localhost:8080/",
          "height": 37
        },
        "id": "kj-KDwQxU80C",
        "outputId": "c8b25d0e-3ea6-4107-8df7-35be72d00294"
      },
      "source": [
        "#Create Equation\n",
        "#Y = B0 + B1X1 + BnXn + ... + Sigma Residual\n",
        "regression_equation = 'Y = {:.4f} + {:.4f}X1 + {:.4f}X2 + {:.4f}X3 + {:.4f}X4 + {:.4f}'.format(B0, B1, B2, B3, B4, sigma)\n",
        "regression_equation"
      ],
      "execution_count": null,
      "outputs": [
        {
          "output_type": "execute_result",
          "data": {
            "application/vnd.google.colaboratory.intrinsic+json": {
              "type": "string"
            },
            "text/plain": [
              "'Y = -9.1054 + 0.0871X1 + 0.3292X2 + 0.0858X3 + -0.0068X4 + 2.8922'"
            ]
          },
          "metadata": {},
          "execution_count": 9
        }
      ]
    },
    {
      "cell_type": "code",
      "metadata": {
        "colab": {
          "base_uri": "https://localhost:8080/",
          "height": 37
        },
        "id": "n0ovITrdJjkP",
        "outputId": "eaa48b8c-fef8-426a-84ac-17bf52022c67"
      },
      "source": [
        "regression_equation_str = str(regression_equation)\n",
        "regression_equation_str"
      ],
      "execution_count": null,
      "outputs": [
        {
          "output_type": "execute_result",
          "data": {
            "application/vnd.google.colaboratory.intrinsic+json": {
              "type": "string"
            },
            "text/plain": [
              "'Y = -9.1054 + 0.0871X1 + 0.3292X2 + 0.0858X3 + -0.0068X4 + 2.8922'"
            ]
          },
          "metadata": {},
          "execution_count": 10
        }
      ]
    },
    {
      "cell_type": "code",
      "metadata": {
        "colab": {
          "base_uri": "https://localhost:8080/"
        },
        "id": "ZBBCWPxJLFs4",
        "outputId": "ad215d4c-52ee-4d5a-8d7f-ce3bee32db24"
      },
      "source": [
        "print(regression_equation_str)\n",
        "type(regression_equation_str)"
      ],
      "execution_count": null,
      "outputs": [
        {
          "output_type": "stream",
          "name": "stdout",
          "text": [
            "Y = -9.1054 + 0.0871X1 + 0.3292X2 + 0.0858X3 + -0.0068X4 + 2.8922\n"
          ]
        },
        {
          "output_type": "execute_result",
          "data": {
            "text/plain": [
              "str"
            ]
          },
          "metadata": {},
          "execution_count": 11
        }
      ]
    },
    {
      "cell_type": "markdown",
      "metadata": {
        "id": "5nyaemD1n6E9"
      },
      "source": [
        "## Plotting"
      ]
    },
    {
      "cell_type": "code",
      "metadata": {
        "colab": {
          "base_uri": "https://localhost:8080/",
          "height": 351
        },
        "id": "76J2_jopMeTb",
        "outputId": "02e3d50c-2e88-4d49-a6a5-46b045aa9a4c"
      },
      "source": [
        "'''\n",
        "Plots\n",
        "'''\n",
        "# 'SUA (MPa)' \n",
        "fig, ax = plt.subplots()\n",
        "\n",
        "#Add the text\n",
        "textstr = '\\n'.join((r'r2 SUA = %.4f' % (r2_SUA), r'mse SUA = %.4f' % (mse_SUA),\n",
        "                     r'rmse SUA = %.4f' % (rmse_SUA)))\n",
        "\n",
        "p1 = max(max(y_pred), max(y))\n",
        "p2 = min(0, 0)\n",
        "ax.plot([p1, p2], [p1, p2], 'k-', lw = 1)\n",
        "ax.scatter(y, y_pred, s = 30, c = 'lime', marker = '+')\n",
        "ax.set_yscale('linear')\n",
        "ax.set_xscale('linear')\n",
        "ax.set_xlabel('Observed - SUA - MLR-01', fontsize = 12)\n",
        "ax.set_ylabel('Predicted - SUA - MLR-01', fontsize = 12)\n",
        "props = dict(boxstyle = 'round', facecolor = 'wheat', alpha = 0.5) #Metrics\n",
        "props_2 = dict(boxstyle = 'round', facecolor = 'wheat', alpha = 0.7) #Regression Equation\n",
        "ax.text(8, 2,  textstr, horizontalalignment = 'left', verticalalignment = 'top', fontsize = 12, bbox = props) #Metrics\n",
        "ax.text(-0.2, 13, 'Y = -9.1054 + 0.0871X1 + 0.3292X2 + 0.0858X3 + -0.0068X4 + 2.8922', horizontalalignment = 'left', \n",
        "        verticalalignment = 'top', fontsize = 8, bbox = props_2)\n",
        "ax.tick_params(axis='x', colors = 'black')\n",
        "ax.tick_params(axis='y', colors = 'black')\n",
        "ax.tick_params(axis = 'both', which='major', labelsize = 12)\n",
        "ax.spines['right'].set_color('black')\n",
        "ax.spines['left'].set_color('black')\n",
        "ax.spines['top'].set_color('black')\n",
        "ax.spines['bottom'].set_color('black')\n",
        "ax.grid(False)\n",
        "fig.tight_layout()\n",
        "\n",
        "#Plotting the Residuals\n",
        "for i in range(len(y)):\n",
        "  lineXdata = (y[i], y[i])\n",
        "  lineYdata = (y[i], y_pred[i])\n",
        "  plt.plot(lineXdata, lineYdata, color = 'black', linestyle = 'dotted', lw = .5)\n",
        "  #plt.plot(lineXdata, lineYdata, 'k-', lw = 1)\n",
        "\n",
        "#Saving the Fig\n",
        "plt.savefig('MLR-01.png', dpi = 600)"
      ],
      "execution_count": null,
      "outputs": [
        {
          "output_type": "stream",
          "name": "stderr",
          "text": [
            "/usr/local/lib/python3.7/dist-packages/numpy/core/_asarray.py:136: VisibleDeprecationWarning: Creating an ndarray from ragged nested sequences (which is a list-or-tuple of lists-or-tuples-or ndarrays with different lengths or shapes) is deprecated. If you meant to do this, you must specify 'dtype=object' when creating the ndarray\n",
            "  return array(a, dtype, copy=False, order=order, subok=True)\n"
          ]
        },
        {
          "output_type": "display_data",
          "data": {
            "image/png": "[encoded data removed]",
            "text/plain": [
              "<Figure size 432x288 with 1 Axes>"
            ]
          },
          "metadata": {
            "needs_background": "light"
          }
        }
      ]
    }
  ]
}