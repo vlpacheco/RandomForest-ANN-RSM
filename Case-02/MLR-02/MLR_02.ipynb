{
  "nbformat": 4,
  "nbformat_minor": 0,
  "metadata": {
    "colab": {
      "name": "Plotting-MLR-02-Case-02.ipynb",
      "provenance": [],
      "collapsed_sections": []
    },
    "kernelspec": {
      "name": "python3",
      "display_name": "Python 3"
    },
    "language_info": {
      "name": "python"
    }
  },
  "cells": [
    {
      "cell_type": "code",
      "metadata": {
        "id": "75fniQZo2gx7"
      },
      "source": [
        "\"\"\"\n",
        "Random Forest\n",
        "Case_02\n",
        "\n",
        "Grid Search\n",
        "\"\"\"\n",
        "#General Imports\n",
        "import pandas as pd\n",
        "import numpy as np\n",
        "from math import log\n",
        "from numpy import mean\n",
        "from numpy import std\n",
        "import matplotlib.pyplot as plt\n",
        "import tensorflow as tf\n",
        "from tensorflow import keras\n",
        "from tensorflow.keras import layers\n",
        "from sklearn.preprocessing import StandardScaler, MinMaxScaler\n",
        "from sklearn.metrics import mean_squared_error, r2_score, mean_absolute_error, mean_squared_log_error\n",
        "from keras.models import Sequential\n",
        "from keras.layers import Dense, Dropout\n",
        "from keras.callbacks import EarlyStopping, ModelCheckpoint, LearningRateScheduler, CSVLogger\n",
        "from sklearn.model_selection import train_test_split\n",
        "from sklearn.ensemble import RandomForestRegressor\n",
        "from sklearn.model_selection import LeaveOneOut\n",
        "from sklearn.model_selection import cross_val_score, cross_validate, RepeatedKFold\n",
        "from keras.wrappers.scikit_learn import KerasRegressor\n",
        "import time\n",
        "\n",
        "'''\n",
        "PreProcessing\n",
        "''' \n",
        "#Loading Database\n",
        "df_case_02 = pd.read_csv(r'Case_02_data.csv')\n",
        "\n",
        "#Transforming to DataFrame\n",
        "df_case_02 = pd.DataFrame(df_case_02)\n",
        "df_case_02 = df_case_02.drop(columns='run')\n",
        "\n",
        "#Transforming to NumpyArray\n",
        "df_case_02 = df_case_02.to_numpy()\n",
        "\n",
        "'''\n",
        "Inputs\n",
        "'''\n",
        "\n",
        "X = df_case_02[:, [0, 1, 2]]\n",
        "\n",
        "#1 --> Yeast Extract (g/L) --> index: 0\n",
        "#2 --> Whey (g/L) --> index: 1\n",
        "#3 --> Autoclave Temperature (ºC) --> index: 2\n",
        "#4 --> Seawater (%) --> index: 3\n",
        "\n",
        "'''\n",
        "#Outputs\n",
        "'''\n",
        "y = df_case_02[:, [3]]\n",
        "\n",
        "#1 --> Response: SUA (Mm urea hydrolyzed.min-1.OD-1) --> index: 4\n",
        "\n",
        "\n",
        "#Train & Test split\n",
        "X_train, X_test, y_train, y_test = train_test_split(X, y, \n",
        "                                                   test_size = 0.50)"
      ],
      "execution_count": null,
      "outputs": []
    },
    {
      "cell_type": "code",
      "metadata": {
        "id": "SJqR16rQGYNQ"
      },
      "source": [
        "from sklearn.linear_model import LinearRegression\n",
        "model = LinearRegression()"
      ],
      "execution_count": null,
      "outputs": []
    },
    {
      "cell_type": "code",
      "metadata": {
        "colab": {
          "base_uri": "https://localhost:8080/"
        },
        "id": "yxn2qxIaGFBG",
        "outputId": "b3f1127f-c160-4531-d6d8-f9ae9493dc46"
      },
      "source": [
        "#Initial time\n",
        "start_time = time.time()\n",
        "\n",
        "#Fitting the model\n",
        "model.fit(X, y)\n",
        "\n",
        "#Final time\n",
        "end_time = (time.time() - start_time)\n",
        "print('The running time is: %.2f minutes' %(end_time/60))"
      ],
      "execution_count": null,
      "outputs": [
        {
          "output_type": "stream",
          "name": "stdout",
          "text": [
            "The running time is: 0.00 minutes\n"
          ]
        }
      ]
    },
    {
      "cell_type": "code",
      "metadata": {
        "id": "nM7bXrqO2s--"
      },
      "source": [
        "#Making a prediction\n",
        "y_pred = model.predict(X)"
      ],
      "execution_count": null,
      "outputs": []
    },
    {
      "cell_type": "code",
      "metadata": {
        "id": "vwjxin_O2t7M",
        "colab": {
          "base_uri": "https://localhost:8080/"
        },
        "outputId": "0686c605-add8-4a23-d0b9-4b76117a97ea"
      },
      "source": [
        "#Metrics Global\n",
        "print('Metrics Global')\n",
        "mae_SUA = mean_absolute_error(y, y_pred)\n",
        "print('The mae is: %.4f' %mae_SUA)\n",
        "mse_SUA = mean_squared_error(y, y_pred)\n",
        "print('The mse is: %.4f' %mse_SUA)\n",
        "rmse_SUA = np.sqrt(mse_SUA).mean()\n",
        "print('The rmse is: %.4f' %rmse_SUA)\n",
        "r2_SUA = r2_score(y, y_pred)\n",
        "print('The R2 is: %.4f' %r2_SUA)"
      ],
      "execution_count": null,
      "outputs": [
        {
          "output_type": "stream",
          "name": "stdout",
          "text": [
            "Metrics Global\n",
            "The mae is: 0.0094\n",
            "The mse is: 0.0002\n",
            "The rmse is: 0.0141\n",
            "The R2 is: 0.5531\n"
          ]
        }
      ]
    },
    {
      "cell_type": "markdown",
      "metadata": {
        "id": "GF7BCahwOnin"
      },
      "source": [
        "## Making the Equation\n",
        "\n",
        "Y = B0 + B1X1 + BnXn + ... + Sigma Residual"
      ]
    },
    {
      "cell_type": "code",
      "metadata": {
        "colab": {
          "base_uri": "https://localhost:8080/"
        },
        "id": "N5XL6-LiO0Tp",
        "outputId": "9578c9e0-50aa-43ee-f674-66bdbaa2e6fb"
      },
      "source": [
        "#Intercept of the model B0...\n",
        "B0 = model.intercept_\n",
        "B0 = float(B0)\n",
        "B0"
      ],
      "execution_count": null,
      "outputs": [
        {
          "output_type": "execute_result",
          "data": {
            "text/plain": [
              "-0.01669887169178404"
            ]
          },
          "metadata": {},
          "execution_count": 6
        }
      ]
    },
    {
      "cell_type": "code",
      "metadata": {
        "colab": {
          "base_uri": "https://localhost:8080/"
        },
        "id": "BPXb4HmCO1vC",
        "outputId": "7181dbd9-d7e3-49b1-d969-203b632473ce"
      },
      "source": [
        "#Coefficients of the model B1, B2, B3\n",
        "coefficient = model.coef_\n",
        "coefficient = np.array(coefficient)\n",
        "coefficient"
      ],
      "execution_count": null,
      "outputs": [
        {
          "output_type": "execute_result",
          "data": {
            "text/plain": [
              "array([[ 0.00206447, -0.00034306,  0.16833735]])"
            ]
          },
          "metadata": {},
          "execution_count": 7
        }
      ]
    },
    {
      "cell_type": "code",
      "metadata": {
        "colab": {
          "base_uri": "https://localhost:8080/"
        },
        "id": "sFleoZJ9O5so",
        "outputId": "a0cf40f9-d7a8-4aab-ce1c-f53b983e71d4"
      },
      "source": [
        "#Residual Error\n",
        "sigma_residual = mean_squared_error(y_pred, y)\n",
        "sigma_residual "
      ],
      "execution_count": null,
      "outputs": [
        {
          "output_type": "execute_result",
          "data": {
            "text/plain": [
              "0.00019758912494525469"
            ]
          },
          "metadata": {},
          "execution_count": 8
        }
      ]
    },
    {
      "cell_type": "code",
      "metadata": {
        "id": "PvgaSPEDO78d"
      },
      "source": [
        "#Making variables\n",
        "B0, B1, B2, B3, sigma = B0, coefficient[0,0], coefficient[0,1], coefficient[0, 2], sigma_residual"
      ],
      "execution_count": null,
      "outputs": []
    },
    {
      "cell_type": "code",
      "metadata": {
        "colab": {
          "base_uri": "https://localhost:8080/",
          "height": 37
        },
        "id": "DZeG4EjdPAzN",
        "outputId": "e82ef71c-13c5-4993-8cba-7250fc12abb4"
      },
      "source": [
        "#Create Equation\n",
        "#Y = B0 + B1X1 + BnXn + ... + Sigma Residual\n",
        "regression_equation = 'Y = {:.4f} + {:.4f}X1 + {:.4f}X2 + {:.4f}X3 + {:.4f}'.format(B0, B1, B2, B3, sigma)\n",
        "regression_equation"
      ],
      "execution_count": null,
      "outputs": [
        {
          "output_type": "execute_result",
          "data": {
            "application/vnd.google.colaboratory.intrinsic+json": {
              "type": "string"
            },
            "text/plain": [
              "'Y = -0.0167 + 0.0021X1 + -0.0003X2 + 0.1683X3 + 0.0002'"
            ]
          },
          "metadata": {},
          "execution_count": 10
        }
      ]
    },
    {
      "cell_type": "code",
      "metadata": {
        "colab": {
          "base_uri": "https://localhost:8080/",
          "height": 37
        },
        "id": "8yqJWMzfPG5N",
        "outputId": "e597c5d3-ef54-4808-e7de-c331aea0d3c4"
      },
      "source": [
        "regression_equation_str = str(regression_equation)\n",
        "regression_equation_str"
      ],
      "execution_count": null,
      "outputs": [
        {
          "output_type": "execute_result",
          "data": {
            "application/vnd.google.colaboratory.intrinsic+json": {
              "type": "string"
            },
            "text/plain": [
              "'Y = -0.0167 + 0.0021X1 + -0.0003X2 + 0.1683X3 + 0.0002'"
            ]
          },
          "metadata": {},
          "execution_count": 11
        }
      ]
    },
    {
      "cell_type": "code",
      "metadata": {
        "colab": {
          "base_uri": "https://localhost:8080/",
          "height": 351
        },
        "id": "ZvfBXMchEfZ0",
        "outputId": "ae16ca43-b049-4978-9771-d9f4e7495657"
      },
      "source": [
        "'''\n",
        "Plots\n",
        "'''\n",
        "# 'SUA (MPa)' \n",
        "fig, ax = plt.subplots()\n",
        "\n",
        "#Add the text\n",
        "textstr = '\\n'.join((r'r2 SUA = %.4f' % (r2_SUA), r'mse SUA = %.4f' % (mse_SUA),\n",
        "                     r'rmse SUA = %.4f' % (rmse_SUA)))\n",
        "\n",
        "p1 = max(max(y_pred), max(y))\n",
        "p2 = min(0, 0)\n",
        "ax.plot([p1, p2], [p1, p2], 'k-', lw = 1)\n",
        "ax.scatter(y, y_pred, s = 30, c = 'lime', marker = '+')\n",
        "ax.set_yscale('linear')\n",
        "ax.set_xscale('linear')\n",
        "ax.set_xlabel('Observed - CaCO3 - MLR-02', fontsize = 12)\n",
        "ax.set_ylabel('Predicted - CaCO3 - MLR-02', fontsize = 12)\n",
        "props = dict(boxstyle = 'round', facecolor = 'wheat', alpha = 0.5) #Metrics\n",
        "props_2 = dict(boxstyle = 'round', facecolor = 'wheat', alpha = 0.7) #Regression Equation\n",
        "ax.text(0.06, 0.01,  textstr, horizontalalignment = 'left', verticalalignment = 'top', fontsize = 12, bbox = props) #Metrics\n",
        "ax.text(0, 0.095, 'Y = -0.0167 + 0.0021X1 + -0.0003X2 + 0.1683X3 + 0.0002', horizontalalignment = 'left', \n",
        "        verticalalignment = 'top', fontsize = 8, bbox = props_2)\n",
        "ax.tick_params(axis='x', colors = 'black')\n",
        "ax.tick_params(axis='y', colors = 'black')\n",
        "ax.tick_params(axis = 'both', which='major', labelsize = 12)\n",
        "ax.spines['right'].set_color('black')\n",
        "ax.spines['left'].set_color('black')\n",
        "ax.spines['top'].set_color('black')\n",
        "ax.spines['bottom'].set_color('black')\n",
        "ax.grid(False)\n",
        "fig.tight_layout()\n",
        "\n",
        "#Plotting the Residuals\n",
        "for i in range(len(y)):\n",
        "  lineXdata = (y[i], y[i])\n",
        "  lineYdata = (y[i], y_pred[i])\n",
        "  plt.plot(lineXdata, lineYdata, color = 'black', linestyle = 'dotted', lw = .5)\n",
        "  #plt.plot(lineXdata, lineYdata, 'k-', lw = 1)\n",
        "\n",
        "#Saving the Fig\n",
        "plt.savefig('MLR-02.png', dpi = 600)"
      ],
      "execution_count": null,
      "outputs": [
        {
          "output_type": "stream",
          "name": "stderr",
          "text": [
            "/usr/local/lib/python3.7/dist-packages/numpy/core/_asarray.py:136: VisibleDeprecationWarning: Creating an ndarray from ragged nested sequences (which is a list-or-tuple of lists-or-tuples-or ndarrays with different lengths or shapes) is deprecated. If you meant to do this, you must specify 'dtype=object' when creating the ndarray\n",
            "  return array(a, dtype, copy=False, order=order, subok=True)\n"
          ]
        },
        {
          "output_type": "display_data",
          "data": {
            "image/png": "[encoded data removed]",
            "text/plain": [
              "<Figure size 432x288 with 1 Axes>"
            ]
          },
          "metadata": {
            "needs_background": "light"
          }
        }
      ]
    },
    {
      "cell_type": "code",
      "metadata": {
        "colab": {
          "base_uri": "https://localhost:8080/"
        },
        "id": "pprs-lusZQAm",
        "outputId": "ac49ccca-7af2-4073-fccb-5c61f7fb83ed"
      },
      "source": [
        "from google.colab import drive\n",
        "drive.mount('/content/drive')"
      ],
      "execution_count": null,
      "outputs": [
        {
          "output_type": "stream",
          "name": "stdout",
          "text": [
            "Drive already mounted at /content/drive; to attempt to forcibly remount, call drive.mount(\"/content/drive\", force_remount=True).\n"
          ]
        }
      ]
    }
  ]
}