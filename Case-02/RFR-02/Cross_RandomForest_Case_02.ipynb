{
  "nbformat": 4,
  "nbformat_minor": 0,
  "metadata": {
    "colab": {
      "name": "Cross-RandomForest-Case-02.ipynb",
      "provenance": [],
      "collapsed_sections": []
    },
    "kernelspec": {
      "name": "python3",
      "display_name": "Python 3"
    },
    "language_info": {
      "name": "python"
    }
  },
  "cells": [
    {
      "cell_type": "code",
      "metadata": {
        "id": "4cXVUydyPayf"
      },
      "source": [
        "\"\"\"\n",
        "Random Forest\n",
        "Case_02\n",
        "\n",
        "Grid Search\n",
        "\"\"\"\n",
        "#General Imports\n",
        "import pandas as pd\n",
        "import numpy as np\n",
        "from math import log\n",
        "from numpy import mean\n",
        "from numpy import std\n",
        "import matplotlib.pyplot as plt\n",
        "import tensorflow as tf\n",
        "from tensorflow import keras\n",
        "from tensorflow.keras import layers\n",
        "from sklearn.preprocessing import StandardScaler, MinMaxScaler\n",
        "from sklearn.metrics import mean_squared_error, r2_score, mean_absolute_error, mean_squared_log_error\n",
        "from keras.models import Sequential\n",
        "from keras.layers import Dense, Dropout\n",
        "from keras.callbacks import EarlyStopping, ModelCheckpoint, LearningRateScheduler, CSVLogger\n",
        "from sklearn.model_selection import train_test_split\n",
        "from sklearn.ensemble import RandomForestRegressor\n",
        "from sklearn.model_selection import LeaveOneOut\n",
        "from sklearn.model_selection import cross_val_score, cross_validate, RepeatedKFold\n",
        "from keras.wrappers.scikit_learn import KerasRegressor\n",
        "import time\n",
        "\n",
        "'''\n",
        "PreProcessing\n",
        "''' \n",
        "#Loading Database\n",
        "df_case_02 = pd.read_csv(r'Case_02_data.csv')\n",
        "\n",
        "#Transforming to DataFrame\n",
        "df_case_02 = pd.DataFrame(df_case_02)\n",
        "df_case_02 = df_case_02.drop(columns='run')\n",
        "\n",
        "#Transforming to NumpyArray\n",
        "df_case_02 = df_case_02.to_numpy()\n",
        "\n",
        "'''\n",
        "Inputs\n",
        "'''\n",
        "\n",
        "X = df_case_02[:, [0, 1, 2]]\n",
        "\n",
        "#1 --> Yeast Extract (g/L) --> index: 0\n",
        "#2 --> Whey (g/L) --> index: 1\n",
        "#3 --> Autoclave Temperature (ºC) --> index: 2\n",
        "#4 --> Seawater (%) --> index: 3\n",
        "\n",
        "'''\n",
        "#Outputs\n",
        "'''\n",
        "y = df_case_02[:, [3]]\n",
        "\n",
        "#1 --> Response: SUA (Mm urea hydrolyzed.min-1.OD-1) --> index: 4\n",
        "\n",
        "\n",
        "#Scaling the and preparing the data\n",
        "scalerX = MinMaxScaler()\n",
        "scalerY = MinMaxScaler()\n",
        "\n",
        "#Scaling the Data\n",
        "scaledX = scalerX.fit_transform(X)\n",
        "scaledY = scalerY.fit_transform(y)\n",
        "\n",
        "\n",
        "#Train & Test split\n",
        "X_train, X_test, y_train, y_test = train_test_split(scaledX, scaledY, \n",
        "                                                   test_size = 0.15)"
      ],
      "execution_count": null,
      "outputs": []
    },
    {
      "cell_type": "code",
      "metadata": {
        "id": "QYjl-9kyALf-"
      },
      "source": [
        "#CrossVal\n",
        "from sklearn.ensemble import RandomForestRegressor\n",
        "from sklearn.model_selection import cross_val_score\n",
        "\n",
        "#Random forest Model\n",
        "model = RandomForestRegressor(bootstrap = 'True', n_estimators = 10, max_depth = 40,\n",
        "                              min_samples_split = 2, min_samples_leaf = 1)"
      ],
      "execution_count": null,
      "outputs": []
    },
    {
      "cell_type": "code",
      "metadata": {
        "colab": {
          "base_uri": "https://localhost:8080/"
        },
        "id": "3fe9lXRoAd85",
        "outputId": "b2303228-47dd-4c10-c930-8e6415586543"
      },
      "source": [
        "#Repeated k-Fold\n",
        "cv = RepeatedKFold(n_splits = 10, n_repeats = 10)\n",
        "\n",
        "#Initial time\n",
        "start_time = time.time()\n",
        "\n",
        "# Cross_Val_Score\n",
        "scores = cross_val_score(model, X, y.ravel(), cv = cv, scoring = 'neg_mean_squared_error', n_jobs = 1)\n",
        "\n",
        "#Final time\n",
        "end_time = (time.time() - start_time)\n",
        "print('The running time is: %.2f minutes' %(end_time/60))"
      ],
      "execution_count": null,
      "outputs": [
        {
          "output_type": "stream",
          "name": "stdout",
          "text": [
            "The running time is: 0.02 minutes\n"
          ]
        }
      ]
    },
    {
      "cell_type": "code",
      "metadata": {
        "colab": {
          "base_uri": "https://localhost:8080/"
        },
        "id": "DdRtPTZ3Ah0F",
        "outputId": "ad81ee3f-7b57-43e9-e7e1-15113f9b3eb7"
      },
      "source": [
        "#mse\n",
        "mse = abs(scores.mean())\n",
        "mse"
      ],
      "execution_count": null,
      "outputs": [
        {
          "output_type": "execute_result",
          "data": {
            "text/plain": [
              "0.00028250107791546986"
            ]
          },
          "metadata": {},
          "execution_count": 35
        }
      ]
    },
    {
      "cell_type": "markdown",
      "metadata": {
        "id": "Rr4vS3oV-iW2"
      },
      "source": [
        "Annotate:\n",
        "\n",
        "Single Layer kfold = 10 n_repeat = 10 // activation = relu-linear\n",
        "\n",
        "n_estimator (10):\n",
        "----------------\n",
        "mse: 0.0028\n",
        "\n",
        "time: 0.02  minutes\n",
        "\n",
        "n_estimator (25):\n",
        "----------------\n",
        "mse: 0.00029\n",
        "\n",
        "time:  0.05 mminutes\n",
        "\n",
        "n_estimator (50):\n",
        "----------------\n",
        "mse: 0.00028\n",
        "\n",
        "time: 0.11 minutes\n",
        "\n",
        "n_estimator (100):\n",
        "----------------\n",
        "mse: 0.00028\n",
        "\n",
        "time: 0.20 minutes\n",
        "\n",
        "n_estimator (200):\n",
        "----------------\n",
        "mse: 0.0027\n",
        "\n",
        "time:  0.40 minutes\n",
        "\n",
        "n_estimator (300):\n",
        "----------------\n",
        "mse: 0.0027\n",
        "\n",
        "time:  0.60 minutes"
      ]
    },
    {
      "cell_type": "markdown",
      "metadata": {
        "id": "2HBqf0azTcLs"
      },
      "source": [
        "## PLOTTING"
      ]
    },
    {
      "cell_type": "code",
      "metadata": {
        "id": "YmezU2ouw75L"
      },
      "source": [
        "#General Imports\n",
        "import pandas as pd\n",
        "import numpy as np\n",
        "import matplotlib.pyplot as plt\n",
        "import seaborn as sns"
      ],
      "execution_count": null,
      "outputs": []
    },
    {
      "cell_type": "code",
      "metadata": {
        "colab": {
          "base_uri": "https://localhost:8080/",
          "height": 297
        },
        "id": "8AOqb2zSz3Sx",
        "outputId": "7864d40d-59ee-47a5-f27e-af94d618119c"
      },
      "source": [
        "#RF-02-mse\n",
        "df_metrics_mae_fs = pd.DataFrame({'n estimator':['n estimator (10)', 'n estimator (25)', 'n estimator (50)', 'n estimator (100)',\n",
        "                              'n estimator (200)', 'n estimator (300)'], 'RF-02 mse': [.0028, .00029, .00028, .00028, .0027, .0027]})\n",
        "\n",
        "labels = ['n estimator (10)', 'n estimator (25)', 'n estimator (50)', 'n estimator (100)', 'n estimator (200)', 'n estimator (300)']\n",
        "mse_RF_02 = [.0028, .00029, .00028, .00028, .0027, .0027]\n",
        "\n",
        "x = np.arange(len(labels))  # the label locations\n",
        "width = 0.5  # the width of the bars\n",
        "\n",
        "fig, ax = plt.subplots()\n",
        "rects1 = ax.bar(x - width/2, mse_RF_02, width, label = 'mse RFR-02', color = 'turquoise')\n",
        "\n",
        "\n",
        "# Add some text for labels, title and custom x-axis tick labels, etc.\n",
        "ax.set_ylabel('mse (min)')\n",
        "#ax.set_xlabel('Model')\n",
        "#ax.set_title('Mae (kPa) by Random Forest and DNN - fs')\n",
        "ax.set_xticks(x)\n",
        "ax.set_xticklabels(labels)\n",
        "ax.tick_params(axis = 'both', which='major', labelsize=7)\n",
        "ax.legend()\n",
        "ax.tick_params(axis='x', colors = 'black')\n",
        "ax.tick_params(axis='y', colors = 'black')\n",
        "ax.set_xticklabels(labels, rotation = (45), fontsize = 8, va='top', ha='right')\n",
        "ax.spines['right'].set_color('none')\n",
        "ax.spines['left'].set_color('black')\n",
        "ax.spines['top'].set_color('none')\n",
        "ax.spines['bottom'].set_color('black')\n",
        "ax.grid(False)\n",
        "fig.tight_layout()\n",
        "plt.savefig('RFR-02-mse', dpi = 600)\n",
        "plt.show()"
      ],
      "execution_count": null,
      "outputs": [
        {
          "output_type": "display_data",
          "data": {
            "image/png": "[encoded data removed]",
            "text/plain": [
              "<Figure size 432x288 with 1 Axes>"
            ]
          },
          "metadata": {
            "needs_background": "light"
          }
        }
      ]
    },
    {
      "cell_type": "code",
      "metadata": {
        "colab": {
          "base_uri": "https://localhost:8080/",
          "height": 297
        },
        "id": "fbIzy9Eyw8em",
        "outputId": "8b91f874-1857-4a06-c29f-31e2f8973df3"
      },
      "source": [
        "#RF-02-timeprocessing\n",
        "df_metrics_mae_fs = pd.DataFrame({'n estimator':['n estimator (10)', 'n estimator (25)', 'n estimator (50)', 'n estimator (100)',\n",
        "                              'n estimator (200)', 'n estimator (300)'], 'RF-02 mse': [.02, .05, .11, .2, .4, .6]})\n",
        "\n",
        "labels = ['n estimator (10)', 'n estimator (25)', 'n estimator (50)', 'n estimator (100)', 'n estimator (200)', 'n estimator (300)']\n",
        "time_RF_02 = [.02, .05, .11, .2, .4, .6]\n",
        "\n",
        "x = np.arange(len(labels))  # the label locations\n",
        "width = 0.5  # the width of the bars\n",
        "\n",
        "fig, ax = plt.subplots()\n",
        "rects1 = ax.bar(x - width/2, time_RF_02, width, label = 'time RFR-02', color = 'mediumorchid')\n",
        "\n",
        "\n",
        "# Add some text for labels, title and custom x-axis tick labels, etc.\n",
        "ax.set_ylabel('time (min)')\n",
        "#ax.set_xlabel('Model')\n",
        "#ax.set_title('Mae (kPa) by Random Forest and DNN - fs')\n",
        "ax.set_xticks(x)\n",
        "ax.set_xticklabels(labels)\n",
        "ax.tick_params(axis = 'both', which='major', labelsize=7)\n",
        "ax.legend()\n",
        "ax.tick_params(axis='x', colors = 'black')\n",
        "ax.tick_params(axis='y', colors = 'black')\n",
        "ax.set_xticklabels(labels, rotation = (45), fontsize = 8, va='top', ha='right')\n",
        "ax.spines['right'].set_color('none')\n",
        "ax.spines['left'].set_color('black')\n",
        "ax.spines['top'].set_color('none')\n",
        "ax.spines['bottom'].set_color('black')\n",
        "ax.grid(False)\n",
        "fig.tight_layout()\n",
        "plt.savefig('RFR-02-time', dpi = 600)\n",
        "plt.show()"
      ],
      "execution_count": null,
      "outputs": [
        {
          "output_type": "display_data",
          "data": {
            "image/png": "[encoded data removed]",
            "text/plain": [
              "<Figure size 432x288 with 1 Axes>"
            ]
          },
          "metadata": {
            "needs_background": "light"
          }
        }
      ]
    },
    {
      "cell_type": "code",
      "metadata": {
        "id": "1fwRqFqMTg_w"
      },
      "source": [
        "#qc (MPa) correlation matrix\n",
        "k = 10 #number of variables for heatmap\n",
        "cols = df_cpt.corr().nlargest(k, 'qc (MPa)')['qc (MPa)'].index\n",
        "cm = df_cpt[cols].corr()\n",
        "plt.figure(figsize=(16,14))\n",
        "#plt.title('Correlation of Variables')\n",
        "sns.heatmap(cm, annot = True, cmap = 'viridis')\n",
        "plt.savefig('Correlation_of_Variables', dpi = 300)"
      ],
      "execution_count": null,
      "outputs": []
    },
    {
      "cell_type": "markdown",
      "metadata": {
        "id": "oGmgyWbyU5-d"
      },
      "source": [
        "Corrplot"
      ]
    },
    {
      "cell_type": "code",
      "metadata": {
        "colab": {
          "base_uri": "https://localhost:8080/",
          "height": 669
        },
        "id": "sBgwNTstU5P0",
        "outputId": "845a8f08-e3ca-4dbf-e26b-9bb19cfd4973"
      },
      "source": [
        "#Loading Database\n",
        "df_case_02 = pd.read_csv(r'Case_02_data.csv')\n",
        "df_case_02 = df_case_02.drop(columns='run')\n",
        "df_case_02 = df_case_02.rename(columns= {'Response: CaCO3 precipitation rate (h-1)': 'CaCO3'})\n",
        "df_case_02"
      ],
      "execution_count": null,
      "outputs": [
        {
          "output_type": "execute_result",
          "data": {
            "text/html": [
              "<div>\n",
              "<style scoped>\n",
              "    .dataframe tbody tr th:only-of-type {\n",
              "        vertical-align: middle;\n",
              "    }\n",
              "\n",
              "    .dataframe tbody tr th {\n",
              "        vertical-align: top;\n",
              "    }\n",
              "\n",
              "    .dataframe thead th {\n",
              "        text-align: right;\n",
              "    }\n",
              "</style>\n",
              "<table border=\"1\" class=\"dataframe\">\n",
              "  <thead>\n",
              "    <tr style=\"text-align: right;\">\n",
              "      <th></th>\n",
              "      <th>Urea (g/L)</th>\n",
              "      <th>Calcium chloride (g/L)</th>\n",
              "      <th>Nickel (II) nitrate (g/L)</th>\n",
              "      <th>CaCO3</th>\n",
              "    </tr>\n",
              "  </thead>\n",
              "  <tbody>\n",
              "    <tr>\n",
              "      <th>0</th>\n",
              "      <td>7.00</td>\n",
              "      <td>7.00</td>\n",
              "      <td>0.0076</td>\n",
              "      <td>0.002000</td>\n",
              "    </tr>\n",
              "    <tr>\n",
              "      <th>1</th>\n",
              "      <td>25.00</td>\n",
              "      <td>7.00</td>\n",
              "      <td>0.0076</td>\n",
              "      <td>0.026000</td>\n",
              "    </tr>\n",
              "    <tr>\n",
              "      <th>2</th>\n",
              "      <td>7.00</td>\n",
              "      <td>25.00</td>\n",
              "      <td>0.0076</td>\n",
              "      <td>0.000070</td>\n",
              "    </tr>\n",
              "    <tr>\n",
              "      <th>3</th>\n",
              "      <td>25.00</td>\n",
              "      <td>25.00</td>\n",
              "      <td>0.0076</td>\n",
              "      <td>0.017000</td>\n",
              "    </tr>\n",
              "    <tr>\n",
              "      <th>4</th>\n",
              "      <td>7.00</td>\n",
              "      <td>7.00</td>\n",
              "      <td>0.0291</td>\n",
              "      <td>0.004000</td>\n",
              "    </tr>\n",
              "    <tr>\n",
              "      <th>5</th>\n",
              "      <td>25.00</td>\n",
              "      <td>7.00</td>\n",
              "      <td>0.0291</td>\n",
              "      <td>0.035000</td>\n",
              "    </tr>\n",
              "    <tr>\n",
              "      <th>6</th>\n",
              "      <td>7.00</td>\n",
              "      <td>25.00</td>\n",
              "      <td>0.0291</td>\n",
              "      <td>0.000060</td>\n",
              "    </tr>\n",
              "    <tr>\n",
              "      <th>7</th>\n",
              "      <td>25.00</td>\n",
              "      <td>25.00</td>\n",
              "      <td>0.0291</td>\n",
              "      <td>0.019000</td>\n",
              "    </tr>\n",
              "    <tr>\n",
              "      <th>8</th>\n",
              "      <td>0.86</td>\n",
              "      <td>16.00</td>\n",
              "      <td>0.0183</td>\n",
              "      <td>0.000145</td>\n",
              "    </tr>\n",
              "    <tr>\n",
              "      <th>9</th>\n",
              "      <td>31.14</td>\n",
              "      <td>16.00</td>\n",
              "      <td>0.0183</td>\n",
              "      <td>0.097000</td>\n",
              "    </tr>\n",
              "    <tr>\n",
              "      <th>10</th>\n",
              "      <td>16.00</td>\n",
              "      <td>0.86</td>\n",
              "      <td>0.0183</td>\n",
              "      <td>0.007000</td>\n",
              "    </tr>\n",
              "    <tr>\n",
              "      <th>11</th>\n",
              "      <td>16.00</td>\n",
              "      <td>31.14</td>\n",
              "      <td>0.0183</td>\n",
              "      <td>0.000280</td>\n",
              "    </tr>\n",
              "    <tr>\n",
              "      <th>12</th>\n",
              "      <td>16.00</td>\n",
              "      <td>16.00</td>\n",
              "      <td>0.0002</td>\n",
              "      <td>0.008000</td>\n",
              "    </tr>\n",
              "    <tr>\n",
              "      <th>13</th>\n",
              "      <td>16.00</td>\n",
              "      <td>16.00</td>\n",
              "      <td>0.0364</td>\n",
              "      <td>0.015000</td>\n",
              "    </tr>\n",
              "    <tr>\n",
              "      <th>14</th>\n",
              "      <td>16.00</td>\n",
              "      <td>16.00</td>\n",
              "      <td>0.0183</td>\n",
              "      <td>0.005000</td>\n",
              "    </tr>\n",
              "    <tr>\n",
              "      <th>15</th>\n",
              "      <td>16.00</td>\n",
              "      <td>16.00</td>\n",
              "      <td>0.0183</td>\n",
              "      <td>0.010000</td>\n",
              "    </tr>\n",
              "    <tr>\n",
              "      <th>16</th>\n",
              "      <td>16.00</td>\n",
              "      <td>16.00</td>\n",
              "      <td>0.0183</td>\n",
              "      <td>0.007000</td>\n",
              "    </tr>\n",
              "    <tr>\n",
              "      <th>17</th>\n",
              "      <td>16.00</td>\n",
              "      <td>16.00</td>\n",
              "      <td>0.0183</td>\n",
              "      <td>0.009000</td>\n",
              "    </tr>\n",
              "    <tr>\n",
              "      <th>18</th>\n",
              "      <td>16.00</td>\n",
              "      <td>16.00</td>\n",
              "      <td>0.0183</td>\n",
              "      <td>0.007000</td>\n",
              "    </tr>\n",
              "    <tr>\n",
              "      <th>19</th>\n",
              "      <td>16.00</td>\n",
              "      <td>16.00</td>\n",
              "      <td>0.0183</td>\n",
              "      <td>0.010000</td>\n",
              "    </tr>\n",
              "  </tbody>\n",
              "</table>\n",
              "</div>"
            ],
            "text/plain": [
              "    Urea (g/L)  Calcium chloride (g/L)  Nickel (II) nitrate (g/L)     CaCO3\n",
              "0         7.00                    7.00                     0.0076  0.002000\n",
              "1        25.00                    7.00                     0.0076  0.026000\n",
              "2         7.00                   25.00                     0.0076  0.000070\n",
              "3        25.00                   25.00                     0.0076  0.017000\n",
              "4         7.00                    7.00                     0.0291  0.004000\n",
              "5        25.00                    7.00                     0.0291  0.035000\n",
              "6         7.00                   25.00                     0.0291  0.000060\n",
              "7        25.00                   25.00                     0.0291  0.019000\n",
              "8         0.86                   16.00                     0.0183  0.000145\n",
              "9        31.14                   16.00                     0.0183  0.097000\n",
              "10       16.00                    0.86                     0.0183  0.007000\n",
              "11       16.00                   31.14                     0.0183  0.000280\n",
              "12       16.00                   16.00                     0.0002  0.008000\n",
              "13       16.00                   16.00                     0.0364  0.015000\n",
              "14       16.00                   16.00                     0.0183  0.005000\n",
              "15       16.00                   16.00                     0.0183  0.010000\n",
              "16       16.00                   16.00                     0.0183  0.007000\n",
              "17       16.00                   16.00                     0.0183  0.009000\n",
              "18       16.00                   16.00                     0.0183  0.007000\n",
              "19       16.00                   16.00                     0.0183  0.010000"
            ]
          },
          "metadata": {},
          "execution_count": 5
        }
      ]
    },
    {
      "cell_type": "code",
      "metadata": {
        "colab": {
          "base_uri": "https://localhost:8080/",
          "height": 596
        },
        "id": "_eh3O__-VABK",
        "outputId": "2466c733-b2b9-4a2c-cf88-e46667b0ec9f"
      },
      "source": [
        "k = 10 #number of variables for heatmap\n",
        "cols = df_case_02.corr().nlargest(k, 'CaCO3')['CaCO3'].index\n",
        "cm = df_case_02[cols].corr()\n",
        "plt.figure(figsize=(14,10))\n",
        "#plt.title('Correlation of Variables')\n",
        "sns.heatmap(cm, annot = True, cmap = 'magma')\n",
        "plt.savefig('Case-02-Correlation', dpi = 300)"
      ],
      "execution_count": null,
      "outputs": [
        {
          "output_type": "display_data",
          "data": {
            "image/png": "[encoded data removed]",
            "text/plain": [
              "<Figure size 1008x720 with 2 Axes>"
            ]
          },
          "metadata": {
            "needs_background": "light"
          }
        }
      ]
    }
  ]
}